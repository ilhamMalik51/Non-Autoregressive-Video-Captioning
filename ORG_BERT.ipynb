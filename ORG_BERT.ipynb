{
 "cells": [
  {
   "cell_type": "code",
   "execution_count": 1,
   "id": "fa2d6171",
   "metadata": {},
   "outputs": [],
   "source": [
    "from models import Decoder\n",
    "from models import Encoder\n",
    "from models import Joint_Representaion_Learner\n",
    "\n",
    "import torch\n",
    "import pickle\n",
    "import numpy as np"
   ]
  },
  {
   "cell_type": "markdown",
   "id": "97530ef0",
   "metadata": {},
   "source": [
    "# Setara Opt Dictionary"
   ]
  },
  {
   "cell_type": "code",
   "execution_count": 2,
   "id": "f789f83d",
   "metadata": {},
   "outputs": [],
   "source": [
    "config = {\n",
    "    'pos_attention' : False,\n",
    "    'enhance_input' : 2,\n",
    "    'watch' : 0,\n",
    "    'num_hidden_layers_decoder' : 1,\n",
    "    'decoding_type' : 'ARFormer',\n",
    "    'decoder' : 'BertDecoder',\n",
    "    'vocab_size' : 100,\n",
    "    'dim_hidden' : 512,\n",
    "    'max_len' : 30,\n",
    "    'with_category' : True,\n",
    "    'num_category' : 20,\n",
    "    'layer_norm_eps' : 0.00001,\n",
    "    'hidden_dropout_prob' : 0.5,\n",
    "    'num_attention_heads' : 8,\n",
    "    'attention_probs_dropout_prob' : 0.0,\n",
    "    'with_layernorm' : False,\n",
    "    'intermediate_size' : 2048,\n",
    "    'hidden_act' : 'gelu_new'\n",
    "}\n",
    "\n",
    "opt = {\n",
    "    'encoder' : 'Encoder_HighWay',\n",
    "    'modality' : 'mio',\n",
    "    'dim_m' : 2048,\n",
    "    'dim_i' : 1536,\n",
    "    'dim_o' : 1024,\n",
    "    'dim_hidden' : 512,\n",
    "    'no_encoder_bn' : False\n",
    "}\n",
    "\n",
    "batch_size = 8\n",
    "frame_len = 6\n",
    "num_objs = 5\n",
    "seq_len = 16\n",
    "feat_dim = 512"
   ]
  },
  {
   "cell_type": "markdown",
   "id": "71ec50c6",
   "metadata": {},
   "source": [
    "# Encoder Input"
   ]
  },
  {
   "cell_type": "code",
   "execution_count": 3,
   "id": "3eee0d70",
   "metadata": {},
   "outputs": [],
   "source": [
    "torch.manual_seed(1)\n",
    "\n",
    "m = torch.randn(batch_size, frame_len, 2048)\n",
    "i = torch.randn(batch_size, frame_len, 1536)\n",
    "o = torch.randn(batch_size, frame_len, num_objs, 1024)\n",
    "\n",
    "feats = [m, i, o]"
   ]
  },
  {
   "cell_type": "markdown",
   "id": "9d6c97b0",
   "metadata": {},
   "source": [
    "# Deklarasi Encoder"
   ]
  },
  {
   "cell_type": "code",
   "execution_count": 4,
   "id": "a7c87540",
   "metadata": {},
   "outputs": [
    {
     "data": {
      "text/plain": [
       "Encoder_HighWay(\n",
       "  (Encoder_M): Sequential(\n",
       "    (0): Linear(in_features=2048, out_features=512, bias=True)\n",
       "    (1): HighWay(\n",
       "      (w1): Linear(in_features=512, out_features=512, bias=True)\n",
       "      (w2): Linear(in_features=512, out_features=512, bias=True)\n",
       "      (tanh): Tanh()\n",
       "    )\n",
       "    (2): Dropout(p=0.5, inplace=False)\n",
       "  )\n",
       "  (Encoder_I): Sequential(\n",
       "    (0): Linear(in_features=1536, out_features=512, bias=True)\n",
       "    (1): HighWay(\n",
       "      (w1): Linear(in_features=512, out_features=512, bias=True)\n",
       "      (w2): Linear(in_features=512, out_features=512, bias=True)\n",
       "      (tanh): Tanh()\n",
       "    )\n",
       "    (2): Dropout(p=0.5, inplace=False)\n",
       "  )\n",
       "  (Encoder_O): ORG(\n",
       "    (dropout): Dropout(p=0.3, inplace=False)\n",
       "    (adjacency_dropout): Dropout(p=0.5, inplace=False)\n",
       "    (object_projection): Linear(in_features=1024, out_features=512, bias=True)\n",
       "    (sigma_r): Linear(in_features=1024, out_features=512, bias=True)\n",
       "    (psi_r): Linear(in_features=1024, out_features=512, bias=True)\n",
       "    (w_r): Linear(in_features=1024, out_features=512, bias=False)\n",
       "  )\n",
       ")"
      ]
     },
     "execution_count": 4,
     "metadata": {},
     "output_type": "execute_result"
    }
   ],
   "source": [
    "encoder = getattr(Encoder, opt['encoder'], None)(opt)\n",
    "encoder.eval()"
   ]
  },
  {
   "cell_type": "markdown",
   "id": "75e4a5c1",
   "metadata": {},
   "source": [
    "# Forward Pass Encoder"
   ]
  },
  {
   "cell_type": "code",
   "execution_count": 5,
   "id": "86b59841",
   "metadata": {},
   "outputs": [],
   "source": [
    "enc_output, enc_hidden = encoder(feats) ## AMAN BERJALAN"
   ]
  },
  {
   "cell_type": "code",
   "execution_count": 6,
   "id": "44e2c3cb",
   "metadata": {},
   "outputs": [
    {
     "name": "stdout",
     "output_type": "stream",
     "text": [
      "Shape untuk output enhanced object features torch.Size([8, 6, 5, 512]) \n",
      "Shape untuk output proyeksi object features torch.Size([8, 6, 5, 512])\n"
     ]
    }
   ],
   "source": [
    "print(\"Shape untuk output enhanced object features {} \\n\\\n",
    "Shape untuk output proyeksi object features {}\".format(enc_output[-1][0].shape, enc_output[-1][1].shape))"
   ]
  },
  {
   "cell_type": "markdown",
   "id": "f6369afe",
   "metadata": {},
   "source": [
    "# Joint Representation"
   ]
  },
  {
   "cell_type": "code",
   "execution_count": 7,
   "id": "adaf1e34",
   "metadata": {},
   "outputs": [],
   "source": [
    "feats_size = [opt['dim_hidden']] * (len(opt['modality']))\n",
    "join_representation_learner = Joint_Representaion_Learner(feats_size, opt)"
   ]
  },
  {
   "cell_type": "code",
   "execution_count": 8,
   "id": "552ae896",
   "metadata": {},
   "outputs": [],
   "source": [
    "enc_output, enc_hidden, enc_obj_output = join_representation_learner(enc_output, enc_hidden)"
   ]
  },
  {
   "cell_type": "code",
   "execution_count": 13,
   "id": "a30d2894",
   "metadata": {},
   "outputs": [
    {
     "data": {
      "text/plain": [
       "torch.Size([8, 512])"
      ]
     },
     "execution_count": 13,
     "metadata": {},
     "output_type": "execute_result"
    }
   ],
   "source": []
  },
  {
   "cell_type": "markdown",
   "id": "f070ffa9",
   "metadata": {},
   "source": [
    "# Deklarasi Decoder"
   ]
  },
  {
   "cell_type": "code",
   "execution_count": 3,
   "id": "89617a7c",
   "metadata": {},
   "outputs": [
    {
     "data": {
      "text/plain": [
       "BertDecoder(\n",
       "  (embedding): BertEmbeddings(\n",
       "    (word_embeddings): Embedding(100, 512, padding_idx=0)\n",
       "    (position_embeddings): Embedding(30, 512)\n",
       "    (category_embeddings): Embedding(20, 512)\n",
       "    (LayerNorm): LayerNorm((512,), eps=1e-05, elementwise_affine=True)\n",
       "    (dropout): Dropout(p=0.5, inplace=False)\n",
       "  )\n",
       "  (layer): ModuleList(\n",
       "    (0): BertLayer(\n",
       "      (attention): BertAttention(\n",
       "        (self): BertSelfAttention(\n",
       "          (query): Linear(in_features=512, out_features=512, bias=True)\n",
       "          (key): Linear(in_features=512, out_features=512, bias=True)\n",
       "          (value): Linear(in_features=512, out_features=512, bias=True)\n",
       "          (dropout): Dropout(p=0.0, inplace=False)\n",
       "        )\n",
       "        (output): BertSelfOutput(\n",
       "          (dense): Linear(in_features=512, out_features=512, bias=True)\n",
       "          (dropout): Dropout(p=0.5, inplace=False)\n",
       "        )\n",
       "      )\n",
       "      (attend_to_enc_output): BertAttention(\n",
       "        (self): BertSelfAttention(\n",
       "          (query): Linear(in_features=512, out_features=512, bias=True)\n",
       "          (key): Linear(in_features=512, out_features=512, bias=True)\n",
       "          (value): Linear(in_features=512, out_features=512, bias=True)\n",
       "          (dropout): Dropout(p=0.0, inplace=False)\n",
       "        )\n",
       "        (output): BertSelfOutput(\n",
       "          (dense): Linear(in_features=512, out_features=512, bias=True)\n",
       "          (dropout): Dropout(p=0.5, inplace=False)\n",
       "        )\n",
       "      )\n",
       "      (intermediate): BertIntermediate(\n",
       "        (dense): Linear(in_features=512, out_features=2048, bias=True)\n",
       "      )\n",
       "      (output): BertOutput(\n",
       "        (dense): Linear(in_features=2048, out_features=512, bias=True)\n",
       "        (dropout): Dropout(p=0.5, inplace=False)\n",
       "      )\n",
       "    )\n",
       "  )\n",
       ")"
      ]
     },
     "execution_count": 3,
     "metadata": {},
     "output_type": "execute_result"
    }
   ],
   "source": [
    "decoder = getattr(Decoder, config['decoder'], None)(config)\n",
    "decoder.eval()"
   ]
  },
  {
   "cell_type": "markdown",
   "id": "df1b3835",
   "metadata": {},
   "source": [
    "# Deklarasi Data yang Dibutuhkan"
   ]
  },
  {
   "cell_type": "code",
   "execution_count": 21,
   "id": "b235d321",
   "metadata": {},
   "outputs": [],
   "source": [
    "torch.manual_seed(1)\n",
    "\n",
    "tgt_tokens = torch.randint(0, config['vocab_size']-1, (batch_size, seq_len))\n",
    "# enc_output = [torch.randn(batch_size, frame_len, feat_dim) if i < 2 else torch.randn(batch_size, frame_len, num_objs, feat_dim) for i in range(3)]\n",
    "encoder_outputs = {'enc_output' : torch.randn(batch_size, 2 * frame_len, feat_dim), \n",
    "                   'enc_hidden' : torch.randn(batch_size, 1, feat_dim)}\n",
    "category = torch.LongTensor([2])\n",
    "decoding_type = config['decoding_type']"
   ]
  },
  {
   "cell_type": "markdown",
   "id": "89c7df85",
   "metadata": {},
   "source": [
    "# Info Corpus"
   ]
  },
  {
   "cell_type": "code",
   "execution_count": 5,
   "id": "61c49d5e",
   "metadata": {},
   "outputs": [],
   "source": [
    "with open('MSRVTT/info_corpus.pkl', 'rb') as f:\n",
    "    info_corpus = pickle.load(f)\n",
    "\n",
    "# ambil index to word dictionary\n",
    "i2w = info_corpus['info']['itow']"
   ]
  },
  {
   "cell_type": "markdown",
   "id": "efb8e180",
   "metadata": {},
   "source": [
    "Preparation before feedigng"
   ]
  },
  {
   "cell_type": "code",
   "execution_count": 6,
   "id": "3489274d",
   "metadata": {},
   "outputs": [],
   "source": [
    "def prepare_inputs_for_decoder(encoder_outputs, category):\n",
    "    input_keys_for_decoder = ['enc_output']\n",
    "\n",
    "    inputs_for_decoder = {'category': category}\n",
    "    for key in input_keys_for_decoder:\n",
    "        inputs_for_decoder[key] = encoder_outputs[key] # di sini udah ambil tensor\n",
    "\n",
    "    if isinstance(inputs_for_decoder['enc_output'], list):\n",
    "        assert len(inputs_for_decoder['enc_output']) == 1\n",
    "        inputs_for_decoder['enc_output'] = inputs_for_decoder['enc_output'][0]\n",
    "\n",
    "    return inputs_for_decoder"
   ]
  },
  {
   "cell_type": "markdown",
   "id": "4c297a4a",
   "metadata": {},
   "source": [
    "# Rerun this cell if Data is Updated"
   ]
  },
  {
   "cell_type": "code",
   "execution_count": 23,
   "id": "9c5d512e",
   "metadata": {},
   "outputs": [],
   "source": [
    "inputs_for_decoder = prepare_inputs_for_decoder(encoder_outputs, category)\n",
    "tgt_tokens = [item[:, :-1] for item in tgt_tokens] if isinstance(tgt_tokens, list) else tgt_tokens[:, :-1]"
   ]
  },
  {
   "cell_type": "code",
   "execution_count": 25,
   "id": "51c4923c",
   "metadata": {},
   "outputs": [],
   "source": [
    "hidden_states, embs, *_ = decoder( \n",
    "    tgt_seq=tgt_tokens, \n",
    "    decoding_type=decoding_type,\n",
    "    output_attentions=False,\n",
    "    **inputs_for_decoder # difeed setiap key value pairs ke forward method decoder\n",
    ")"
   ]
  },
  {
   "cell_type": "code",
   "execution_count": 29,
   "id": "16b682de",
   "metadata": {},
   "outputs": [
    {
     "data": {
      "text/plain": [
       "torch.Size([8, 15, 512])"
      ]
     },
     "execution_count": 29,
     "metadata": {},
     "output_type": "execute_result"
    }
   ],
   "source": [
    "hidden_states[0].shape"
   ]
  }
 ],
 "metadata": {
  "kernelspec": {
   "display_name": "Python 3 (ipykernel)",
   "language": "python",
   "name": "python3"
  },
  "language_info": {
   "codemirror_mode": {
    "name": "ipython",
    "version": 3
   },
   "file_extension": ".py",
   "mimetype": "text/x-python",
   "name": "python",
   "nbconvert_exporter": "python",
   "pygments_lexer": "ipython3",
   "version": "3.9.2"
  }
 },
 "nbformat": 4,
 "nbformat_minor": 5
}
