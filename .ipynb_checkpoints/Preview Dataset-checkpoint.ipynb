{
 "cells": [
  {
   "cell_type": "code",
   "execution_count": 37,
   "id": "68e58f6a",
   "metadata": {},
   "outputs": [],
   "source": [
    "import json\n",
    "import string\n",
    "import numpy as np\n",
    "\n",
    "from tqdm import tqdm\n",
    "from collections import defaultdict"
   ]
  },
  {
   "cell_type": "markdown",
   "id": "22070ad0",
   "metadata": {},
   "source": [
    "# Reading The Data\n",
    "\n",
    "* base_path is the base path for all the code, datasets, and models\n",
    "* the data is read using json library from python"
   ]
  },
  {
   "cell_type": "code",
   "execution_count": 9,
   "id": "fe811711",
   "metadata": {},
   "outputs": [],
   "source": [
    "base_path = \"MSRVTT/raw-data/train_val_videodatainfo.json\""
   ]
  },
  {
   "cell_type": "code",
   "execution_count": 10,
   "id": "d5da09a6",
   "metadata": {},
   "outputs": [],
   "source": [
    "json_data = json.load(open(base_path, 'r'))"
   ]
  },
  {
   "cell_type": "code",
   "execution_count": 13,
   "id": "9c7b2b23",
   "metadata": {},
   "outputs": [],
   "source": [
    "sentences = json_data['sentences']\n",
    "videos = json_data['videos']"
   ]
  },
  {
   "cell_type": "markdown",
   "id": "ec7c1fee",
   "metadata": {},
   "source": [
    "## Storing The Data\n",
    "\n",
    "1. Get all the needed video id for training\n",
    "2. Get all the needed captions"
   ]
  },
  {
   "cell_type": "code",
   "execution_count": 21,
   "id": "3bbfbfe9",
   "metadata": {},
   "outputs": [],
   "source": [
    "split = {'train': []}"
   ]
  },
  {
   "cell_type": "code",
   "execution_count": 22,
   "id": "8e558886",
   "metadata": {},
   "outputs": [],
   "source": [
    "count = 0\n",
    "\n",
    "for v in videos:\n",
    "    if count < 100:\n",
    "        split['train'].append(int(v['id']))\n",
    "        count += 1"
   ]
  },
  {
   "cell_type": "markdown",
   "id": "da8034d4",
   "metadata": {},
   "source": [
    "## Get Captions"
   ]
  },
  {
   "cell_type": "code",
   "execution_count": 58,
   "id": "f8f3e760",
   "metadata": {},
   "outputs": [],
   "source": [
    "raw_caps_all = defaultdict(list)\n",
    "raw_caps_train = defaultdict(list)\n",
    "references = defaultdict(list)"
   ]
  },
  {
   "cell_type": "code",
   "execution_count": 67,
   "id": "31570bb8",
   "metadata": {},
   "outputs": [
    {
     "name": "stderr",
     "output_type": "stream",
     "text": [
      "100%|██████████████████████████████████████████████████████████████████████| 140200/140200 [00:00<00:00, 513572.84it/s]\n"
     ]
    }
   ],
   "source": [
    "for item in tqdm(sentences):\n",
    "    if int(item['video_id'][5:]) in split['train']:\n",
    "        \n",
    "        vid = item['video_id']\n",
    "        \n",
    "        tokens = [\n",
    "            token.lower() for token in item['caption'].split() if token not in string.punctuation\n",
    "        ]\n",
    "        \n",
    "        raw_caps_all[vid].append(tokens)\n",
    "        \n",
    "        raw_caps_train[vid].append(tokens)\n",
    "        \n",
    "        references[vid].append({\n",
    "            'image_id': vid, \n",
    "            'cap_id': len(references[vid]), \n",
    "            'caption': ' '.join(tokens)\n",
    "        })"
   ]
  },
  {
   "cell_type": "code",
   "execution_count": 84,
   "id": "bc6a9f4c",
   "metadata": {},
   "outputs": [],
   "source": [
    "itoc = {}\n",
    "split_category = {'train': defaultdict(list)}\n",
    "count = 0\n",
    "\n",
    "for item in videos:\n",
    "    if count < 100:\n",
    "        itoc[item['id']] = item['category']\n",
    "        split_category[item['split']][int(item[\"category\"])].append(int(item['id']))\n",
    "        count += 1"
   ]
  },
  {
   "cell_type": "code",
   "execution_count": 85,
   "id": "5ddb4778",
   "metadata": {},
   "outputs": [],
   "source": [
    "results = {\n",
    "    'split': split, \n",
    "    'raw_caps_train': raw_caps_train, \n",
    "    'raw_caps_all': raw_caps_all, \n",
    "    'references': references,\n",
    "    'itoc': itoc,\n",
    "    'split_category': split_category\n",
    "}"
   ]
  }
 ],
 "metadata": {
  "kernelspec": {
   "display_name": "Python 3 (ipykernel)",
   "language": "python",
   "name": "python3"
  },
  "language_info": {
   "codemirror_mode": {
    "name": "ipython",
    "version": 3
   },
   "file_extension": ".py",
   "mimetype": "text/x-python",
   "name": "python",
   "nbconvert_exporter": "python",
   "pygments_lexer": "ipython3",
   "version": "3.9.2"
  }
 },
 "nbformat": 4,
 "nbformat_minor": 5
}
